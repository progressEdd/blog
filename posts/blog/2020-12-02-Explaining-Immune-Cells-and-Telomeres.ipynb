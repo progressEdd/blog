{
 "cells": [
  {
   "cell_type": "raw",
   "metadata": {
    "vscode": {
     "languageId": "raw"
    }
   },
   "source": [
    "---\n",
    "aliases:\n",
    "- /2020/12/02/Explaining-Immune-Cells-and-Telomeres\n",
    "date: '2020-12-02'\n",
    "description: '[Jake Tran made a video that](https://youtu.be/5Op_lx7rqSs) covered\n",
    "  a recent paper about how Hyperbaric Oxygen Therapy (HBOT), with the potential to\n",
    "  reverse aging. I noticed that Jake didn''t go super in depth with the immune cells,\n",
    "  I decided to fill the gap with my biology and anatomy knowledge I learned in university\n",
    "  backed by some sources I found.'\n",
    "output-file: 2020-12-02-explaining-immune-cells-and-telomeres.html\n",
    "title: Explaining Immune Cells and Telomeres\n",
    "author: \"progressEdd\"\n",
    "categories: [Blog]\n",
    "---\n",
    "\n"
   ]
  },
  {
   "cell_type": "markdown",
   "metadata": {
    "toc": true
   },
   "source": [
    "<h1>Table of Contents<span class=\"tocSkip\"></span></h1>\n",
    "<div class=\"toc\"><ul class=\"toc-item\"><li><span><a href=\"#Explaining-Immune-Cells-and-Telomeres\" data-toc-modified-id=\"Explaining-Immune-Cells-and-Telomeres-1\"><span class=\"toc-item-num\">1&nbsp;&nbsp;</span>Explaining Immune Cells and Telomeres</a></span></li><li><span><a href=\"#Introduction\" data-toc-modified-id=\"Introduction-2\"><span class=\"toc-item-num\">2&nbsp;&nbsp;</span>Introduction</a></span></li><li><span><a href=\"#Summary-of-The-Paper\" data-toc-modified-id=\"Summary-of-The-Paper-3\"><span class=\"toc-item-num\">3&nbsp;&nbsp;</span>Summary of The Paper</a></span></li><li><span><a href=\"#What-Are-The-Functions-of-Immune-Cells\" data-toc-modified-id=\"What-Are-The-Functions-of-Immune-Cells-4\"><span class=\"toc-item-num\">4&nbsp;&nbsp;</span>What Are The Functions of Immune Cells</a></span><ul class=\"toc-item\"><li><span><a href=\"#Explanation-of-Immune-Cells\" data-toc-modified-id=\"Explanation-of-Immune-Cells-4.1\"><span class=\"toc-item-num\">4.1&nbsp;&nbsp;</span>Explanation of Immune Cells</a></span><ul class=\"toc-item\"><li><span><a href=\"#T-lympocytes-(T-cells-and-T-cytotoxic)\" data-toc-modified-id=\"T-lympocytes-(T-cells-and-T-cytotoxic)-4.1.1\"><span class=\"toc-item-num\">4.1.1&nbsp;&nbsp;</span><a href=\"https://www.ncbi.nlm.nih.gov/books/NBK279396/#i2255.tlymphocytes\" target=\"_blank\">T lympocytes (T cells and T cytotoxic)</a></a></span></li><li><span><a href=\"#B-cells\" data-toc-modified-id=\"B-cells-4.1.2\"><span class=\"toc-item-num\">4.1.2&nbsp;&nbsp;</span><a href=\"https://www.ncbi.nlm.nih.gov/books/NBK279396/#i2255.blymphocytes\" target=\"_blank\">B cells</a></a></span></li><li><span><a href=\"#Natural-Killer\" data-toc-modified-id=\"Natural-Killer-4.1.3\"><span class=\"toc-item-num\">4.1.3&nbsp;&nbsp;</span><a href=\"https://www.ncbi.nlm.nih.gov/books/NBK279396/#i2255.protectionofferedbyt2\" target=\"_blank\">Natural Killer</a></a></span></li></ul></li></ul></li><li><span><a href=\"#Why-Telomeres-are-Important\" data-toc-modified-id=\"Why-Telomeres-are-Important-5\"><span class=\"toc-item-num\">5&nbsp;&nbsp;</span>Why Telomeres are Important</a></span><ul class=\"toc-item\"><li><span><a href=\"#Explanation-of-Telomeres\" data-toc-modified-id=\"Explanation-of-Telomeres-5.1\"><span class=\"toc-item-num\">5.1&nbsp;&nbsp;</span>Explanation of Telomeres</a></span><ul class=\"toc-item\"><li><span><a href=\"#A-Very-Short-Explanation-of-Telomeres\" data-toc-modified-id=\"A-Very-Short-Explanation-of-Telomeres-5.1.1\"><span class=\"toc-item-num\">5.1.1&nbsp;&nbsp;</span>A Very Short Explanation of Telomeres</a></span></li></ul></li></ul></li></ul></div>"
   ]
  },
  {
   "cell_type": "markdown",
   "metadata": {},
   "source": [
    "# Introduction\n",
    "While browsing YouTube, I found a video by [Jake Tran](https://www.youtube.com/channel/UCoOjH8D2XAgjzQlneM2W0EQ)\n",
    "\n",
    "{{< video https://youtu.be/5Op_lx7rqSs >}}\n",
    "\n",
    "\n",
    "on Hyperbaric Oxygen Therapy (HBOT)which explained the findings of the following [paper](https://www.aging-us.com/article/202188/text) published in [Aging](https://www.aging-us.com/).\n",
    "\n",
    "I noticed that Jake didn't go super in depth with the immune cells, so I decided to fill the gap with my biology and anatomy knowledge backed by some sources I found."
   ]
  },
  {
   "cell_type": "markdown",
   "metadata": {},
   "source": [
    "# Summary of The Paper\n",
    "On a small healthy population of thirty individuals with ages ranging from 60-70 year old, researchers found that hyperbaric oxygen therapy can increase telomere lengths in T helper, T cytotoxic, natural killer and B cells.\n",
    "To quote the results of the [paper](https://www.aging-us.com/article/202188/text),\n",
    "> Telomeres length of T helper, T cytotoxic, natural killer and B cells increased significantly by over 20% following HBOT. The most significant change was noticed in B cells which increased at the 30th session, 60th session and post HBOT by 25.68%±40.42 (p=0.007), 29.39%±23.39 (p=0.0001) and 37.63%±52.73 (p=0.007), respectively.\n",
    "\n",
    "I was originally excited by the results presented by the video and paper, but I vaguely remember being excited for [another promising headline](https://www.nature.com/articles/s41467-020-19167-0) about the \"anxiety brain\" from [sci-show](https://youtu.be/_fVDyPdhj3U). I decided to follow the suggestion to use pubpeer to search the article [from this guide](https://www.callingbullshit.org/tools/tools_legit.html). \n",
    "\n",
    "I found the following [post on Fight Aging](https://www.fightaging.org/archives/2020/11/overhyping-the-effects-of-hyperbaric-oxygen-treatment-on-aging/). It has a alternate explanation as to why HBOT do not directly help people become younger.\n",
    "\n",
    "> It seems plausible that the same is true of cellular senescence in immune cells. Cells become senescent when they hit the Hayflick limit on cellular replication. Throughout much of life, the senescence of immune cells is likely more determined by replication pace (and thus immune challenges, the burden of infection) than by aging. And that is before we even get to the point that the authors of this paper used a less than standard measure of senescence, one for which it is possible to argue that it may or may not actually be representative of the burden of senescent cells in immune populations. Overall this data is all interesting, but I suspect that it tells us more about the poor relevance of the metrics chosen to anything other than the deeper aspects of immune function. "
   ]
  },
  {
   "cell_type": "markdown",
   "metadata": {},
   "source": [
    "# What Are The Functions of Immune Cells\n",
    "## Explanation of Immune Cells\n",
    "I will be summarizing from the following ncbi textbook. For a more detailed explanation, feel free to check the following article. \n",
    "> InformedHealth.org [Internet]. Cologne, Germany: Institute for Quality and Efficiency in Health Care (IQWiG); 2006-. The innate and adaptive immune systems. [Updated 2020 Jul 30]. Available from: https://www.ncbi.nlm.nih.gov/books/NBK279396/\n",
    "\n",
    "\n",
    "### [T lympocytes (T cells and T cytotoxic)](https://www.ncbi.nlm.nih.gov/books/NBK279396/#i2255.tlymphocytes)\n",
    "The important properties of these cells is that \n",
    "1. T cells detect abnormal or foreign cells\n",
    "2. T cells use chemical messengers to start the immune system (T helper cells)\n",
    "3. T cytotoxic cells destroy abnormal or foreign cells\n",
    "\n",
    "### [B cells](https://www.ncbi.nlm.nih.gov/books/NBK279396/#i2255.blymphocytes)\n",
    "The important properties of these cells is that\n",
    "1. B cells are activated by T helper cells\n",
    "2. B cells help find other cells that are similar to the abnormal or foreign cells detected by T helper cells\n",
    "\n",
    "### [Natural Killer](https://www.ncbi.nlm.nih.gov/books/NBK279396/#i2255.protectionofferedbyt2)\n",
    "The important properties of these cells is that \n",
    "1. Natural killer cells find cells infected by a virus with surface detection to destroy the cell\n",
    "2. Natural killer cells find tumor cells with surface detection to destroy the cell"
   ]
  },
  {
   "cell_type": "markdown",
   "metadata": {},
   "source": [
    "# Why Telomeres are Important\n",
    "## Explanation of Telomeres\n",
    "I will be pulling a lot of the explanations from the following articles\n",
    "This [article from Verywell Health](https://www.verywellhealth.com/understanding-cellular-aging-2224234) talks about cellular aging. This [article from Healthline](https://www.healthline.com/health/telomeres) talks about telomeres.\n",
    "### A Very Short Explanation of Telomeres\n",
    "For cells to continue functioning properly, cells replicate to replace old cells. In this process DNA is copied and cut. To prevent important portions from being cut, telomeres are added to the end. As cells continue to replicate telomeres will continue to get shorter."
   ]
  }
 ],
 "metadata": {
  "kernelspec": {
   "display_name": "Python 3",
   "language": "python",
   "name": "python3"
  },
  "language_info": {
   "codemirror_mode": {
    "name": "ipython",
    "version": 3
   },
   "file_extension": ".py",
   "mimetype": "text/x-python",
   "name": "python",
   "nbconvert_exporter": "python",
   "pygments_lexer": "ipython3",
   "version": "3.7.6"
  },
  "toc": {
   "base_numbering": 1,
   "nav_menu": {},
   "number_sections": true,
   "sideBar": true,
   "skip_h1_title": false,
   "title_cell": "Table of Contents",
   "title_sidebar": "Contents",
   "toc_cell": true,
   "toc_position": {},
   "toc_section_display": true,
   "toc_window_display": true
  },
  "varInspector": {
   "cols": {
    "lenName": 16,
    "lenType": 16,
    "lenVar": 40
   },
   "kernels_config": {
    "python": {
     "delete_cmd_postfix": "",
     "delete_cmd_prefix": "del ",
     "library": "var_list.py",
     "varRefreshCmd": "print(var_dic_list())"
    },
    "r": {
     "delete_cmd_postfix": ") ",
     "delete_cmd_prefix": "rm(",
     "library": "var_list.r",
     "varRefreshCmd": "cat(var_dic_list()) "
    }
   },
   "types_to_exclude": [
    "module",
    "function",
    "builtin_function_or_method",
    "instance",
    "_Feature"
   ],
   "window_display": false
  }
 },
 "nbformat": 4,
 "nbformat_minor": 4
}
