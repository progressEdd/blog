{
 "cells": [
  {
   "cell_type": "markdown",
   "metadata": {
    "toc": true
   },
   "source": [
    "<h1>Table of Contents<span class=\"tocSkip\"></span></h1>\n",
    "<div class=\"toc\"><ul class=\"toc-item\"><li><span><a href=\"#Nvidia-Acquiring-ARM-From-The-Perspective-of-a-Technology-Enthusiast-and-Business-Student\" data-toc-modified-id=\"Nvidia-Acquiring-ARM-From-The-Perspective-of-a-Technology-Enthusiast-and-Business-Student-1\"><span class=\"toc-item-num\">1&nbsp;&nbsp;</span>Nvidia Acquiring ARM From The Perspective of a Technology Enthusiast and Business Student</a></span></li><li><span><a href=\"#Introduction\" data-toc-modified-id=\"Introduction-2\"><span class=\"toc-item-num\">2&nbsp;&nbsp;</span>Introduction</a></span><ul class=\"toc-item\"><li><span><a href=\"#Thesis\" data-toc-modified-id=\"Thesis-2.1\"><span class=\"toc-item-num\">2.1&nbsp;&nbsp;</span>Thesis</a></span></li></ul></li><li><span><a href=\"#How-ARM-Will-Help-Nvidia\" data-toc-modified-id=\"How-ARM-Will-Help-Nvidia-3\"><span class=\"toc-item-num\">3&nbsp;&nbsp;</span>How ARM Will Help Nvidia</a></span><ul class=\"toc-item\"><li><span><a href=\"#Data-Centers-Generate-a-Majority-of-Sales\" data-toc-modified-id=\"Data-Centers-Generate-a-Majority-of-Sales-3.1\"><span class=\"toc-item-num\">3.1&nbsp;&nbsp;</span>Data Centers Generate a Majority of Sales</a></span></li><li><span><a href=\"#Vertical-Integration-For-Super-Computers-and-Servers\" data-toc-modified-id=\"Vertical-Integration-For-Super-Computers-and-Servers-3.2\"><span class=\"toc-item-num\">3.2&nbsp;&nbsp;</span>Vertical Integration For Super Computers and Servers</a></span></li><li><span><a href=\"#x86's-Competition\" data-toc-modified-id=\"x86's-Competition-3.3\"><span class=\"toc-item-num\">3.3&nbsp;&nbsp;</span>x86's Competition</a></span></li><li><span><a href=\"#Alternate-Take\" data-toc-modified-id=\"Alternate-Take-3.4\"><span class=\"toc-item-num\">3.4&nbsp;&nbsp;</span>Alternate Take</a></span></li></ul></li><li><span><a href=\"#Why-ARM-Open-Source-Projects-and-ARM's-Neutrality-Aren’t-Doomed\" data-toc-modified-id=\"Why-ARM-Open-Source-Projects-and-ARM's-Neutrality-Aren’t-Doomed-4\"><span class=\"toc-item-num\">4&nbsp;&nbsp;</span>Why ARM Open Source Projects and ARM's Neutrality Aren’t Doomed</a></span><ul class=\"toc-item\"><li><span><a href=\"#Post-Acquisition\" data-toc-modified-id=\"Post-Acquisition-4.1\"><span class=\"toc-item-num\">4.1&nbsp;&nbsp;</span>Post Acquisition</a></span></li><li><span><a href=\"#Everyone's-Watching-Nvidia's-Moves\" data-toc-modified-id=\"Everyone's-Watching-Nvidia's-Moves-4.2\"><span class=\"toc-item-num\">4.2&nbsp;&nbsp;</span>Everyone's Watching Nvidia's Moves</a></span></li></ul></li><li><span><a href=\"#Who-is-Nvidia’s-Competitors-in-Data-Center-Solutions\" data-toc-modified-id=\"Who-is-Nvidia’s-Competitors-in-Data-Center-Solutions-5\"><span class=\"toc-item-num\">5&nbsp;&nbsp;</span>Who is Nvidia’s Competitors in Data Center Solutions</a></span><ul class=\"toc-item\"><li><span><a href=\"#Is-Intel-Our-Only-Hope?\" data-toc-modified-id=\"Is-Intel-Our-Only-Hope?-5.1\"><span class=\"toc-item-num\">5.1&nbsp;&nbsp;</span>Is Intel Our Only Hope?</a></span></li></ul></li><li><span><a href=\"#How-Nvidia-Can-Be-Vertically-Integrated-at-All-Levels\" data-toc-modified-id=\"How-Nvidia-Can-Be-Vertically-Integrated-at-All-Levels-6\"><span class=\"toc-item-num\">6&nbsp;&nbsp;</span>How Nvidia Can Be Vertically Integrated at All Levels</a></span><ul class=\"toc-item\"><li><span><a href=\"#Assumptions\" data-toc-modified-id=\"Assumptions-6.1\"><span class=\"toc-item-num\">6.1&nbsp;&nbsp;</span>Assumptions</a></span></li><li><span><a href=\"#Hypothetical\" data-toc-modified-id=\"Hypothetical-6.2\"><span class=\"toc-item-num\">6.2&nbsp;&nbsp;</span>Hypothetical</a></span></li></ul></li></ul></div>"
   ]
  },
  {
   "cell_type": "markdown",
   "metadata": {},
   "source": [
    "# Nvidia Acquiring ARM From The Perspective of a Technology Enthusiast and Business Student"
   ]
  },
  {
   "cell_type": "markdown",
   "metadata": {},
   "source": [
    "# Introduction\n",
    "    \n",
    "As reported by the [Nvidia blog](https://nvidianews.nvidia.com/news/nvidia-to-acquire-arm-for-40-billion-creating-worlds-premier-computing-company-for-the-age-of-ai), ARM is being acquired by Nvidia. There were [rumors](https://www.theverge.com/circuitbreaker/2020/7/31/21349332/nvidia-talks-buy-arm-processor-mobile-deal-32-billion-softbank-purchase-rumor) in [july](https://www.wsj.com/articles/softbank-explores-options-for-chip-designer-arm-holdings-11594672437). After reading the official confirmation, I decided to make a blog post so that I could share my thoughts without reposting it about why Nvidia acquired ARM. I do enjoy reading and listening to analysis of the technology industry and businesses.\n",
    "\n",
    "## Thesis\n",
    "I believe Nvidia purchased of ARM is primarily for data centers."
   ]
  },
  {
   "cell_type": "markdown",
   "metadata": {},
   "source": [
    "# How ARM Will Help Nvidia\n",
    "\n",
    "## Data Centers Generate a Majority of Sales\n",
    "\n",
    "Data centers are where technology companies such as Nvidia, AMD, and Intel make the most amount of money ([Nvidia on Bloomberg](https://www.bloomberg.com/news/articles/2020-08-19/nvidia-gives-bullish-forecast-on-surging-data-center-demand), [Intel on VentureBeat](https://venturebeat.com/2020/01/23/intels-strong-20-2-billion-q4-revenues-driven-by-datacenter-growth/), [AMD on Reuters](https://www.reuters.com/article/us-amd-results-idUSKCN1PN2WR)). \n",
    "\n",
    "## Vertical Integration For Super Computers and Servers\n",
    "\n",
    "With ARM CPUs, Mellanox Networking, Nvidia GPUs, Nvidia can make all-in-one servers and supercomputers. The only thing stopping Nvidia from being fully integrated is storage.\n",
    "\n",
    "## x86's Competition\n",
    "\n",
    "From a data centers perspective, it really makes sense as to why Nvidia would acquire ARM over a x86. The ARM instruction set is much more efficient than x86 at power consumption. This is particularly important in [data centers](https://www.networkworld.com/article/2283252/data-center-power--the-cost-reality.html) as power efficiency affects heat and energy costs. See [RISC-V](https://tachyum.com/pr-2020-08-04.shtml) and [Amazon's Graviton](https://www.anandtech.com/show/15578/cloud-clash-amazon-graviton2-arm-against-intel-and-amd) reduced instruction set cpus developments.\n",
    "\n",
    "## Alternate Take\n",
    "\n",
    "Aside from data centers, having ARM will allow Nvidia to avoid paying licensing fees for ARM chips in the Mellanox Networking gear and Nvidia’s own mobile Tegra chips. \n",
    "A potential alternative explanation as to why Nvidia chose to partner with ARM is that ARM’s research and development team is very valuable. If Nvidia’s sole goal was to be vertically integrated, they could have [acquired a x86 patent](http://www.digitimes.com/news/a20090327PD204.html) earlier."
   ]
  },
  {
   "cell_type": "markdown",
   "metadata": {},
   "source": [
    "# Why ARM Open Source Projects and ARM's Neutrality Aren’t Doomed\n",
    "\n",
    "## Post Acquisition\n",
    "If the acquisition gets approved by regulators, I don't think Nvidia will wall off ARM initially. For the next couple of years, Nvidia will focus on getting ARM data center cpus. There will be small developments in mobile phones and laptops, but Nvidia's focus will be primarily data center cpus. Once Nvidia finishes the data center cpus, it’s possible Nvidia will be anticompetitive with mobile. \n",
    "\n",
    "## Everyone's Watching Nvidia's Moves\n",
    "A lot of eyes are watching Nvidia, and history has shown Nvidia’s acquisitions as well. If Nvidia initiated anticompetitive policies, Nvidia would face the scrutiny of regulators, companies, and developers. If Nvida were questioned by regulators over a monopoly with ARM, Nvidia could cite AMD as a competitor and Intel’s dominance and integration.\n",
    "\n",
    "Furthermore, the RISC-V architecture is a potential competitor. If Nvidia were to take a long time focusing on ARM data center CPUs, RISC-V could see an influx of adoption and resources if Nvidia infuriates too many of ARM’s license holders. If more companies use RISC-V developers will also follow."
   ]
  },
  {
   "cell_type": "markdown",
   "metadata": {},
   "source": [
    "# Who is Nvidia’s Competitors in Data Center Solutions\n",
    "\n",
    "## Is Intel Our Only Hope?\n",
    "\n",
    "If we were judging by integration, Nvidia’s primary competitor in data centers would be Intel. Despite Intel’s fabrication woes, the company continues producing server CPUS, networking cards, and NVME storage. The only thing that was keeping Intel from being fully vertically integrated was graphics. Nvidia either sees Intel’s data center offerings as a serious competitor or the data center as a market segment they can gain."
   ]
  },
  {
   "cell_type": "markdown",
   "metadata": {},
   "source": [
    "# How Nvidia Can Be Vertically Integrated at All Levels\n",
    "\n",
    "## Assumptions\n",
    "This is highly unlikely to, as Intel realizes the value of their storage networking and cpu in datacenter. Furthermore, I would hope that Intel recognizes the threat Nvidia poses to their data center efforts.\n",
    "\n",
    "## Hypothetical\n",
    "Suppose Intel doesn't get their cpu process fixed and the company is running out of cash to continue. If Intel is desperate enough, they will sell the storage division. It isn’t the most unlikely event as they [sold their mobile modems to Apple](https://www.cnbc.com/2019/08/01/intel-future-in-5g-networks-after-apple-buys-modem-business.html) a year ago. In this case where intel is desperate, Nvidia can potentially swoop in and acquire the storage."
   ]
  }
 ],
 "metadata": {
  "kernelspec": {
   "display_name": "Python 3",
   "language": "python",
   "name": "python3"
  },
  "language_info": {
   "codemirror_mode": {
    "name": "ipython",
    "version": 3
   },
   "file_extension": ".py",
   "mimetype": "text/x-python",
   "name": "python",
   "nbconvert_exporter": "python",
   "pygments_lexer": "ipython3",
   "version": "3.7.6"
  },
  "toc": {
   "base_numbering": "1",
   "nav_menu": {},
   "number_sections": true,
   "sideBar": true,
   "skip_h1_title": false,
   "title_cell": "Table of Contents",
   "title_sidebar": "Contents",
   "toc_cell": true,
   "toc_position": {},
   "toc_section_display": true,
   "toc_window_display": false
  },
  "varInspector": {
   "cols": {
    "lenName": 16,
    "lenType": 16,
    "lenVar": 40
   },
   "kernels_config": {
    "python": {
     "delete_cmd_postfix": "",
     "delete_cmd_prefix": "del ",
     "library": "var_list.py",
     "varRefreshCmd": "print(var_dic_list())"
    },
    "r": {
     "delete_cmd_postfix": ") ",
     "delete_cmd_prefix": "rm(",
     "library": "var_list.r",
     "varRefreshCmd": "cat(var_dic_list()) "
    }
   },
   "types_to_exclude": [
    "module",
    "function",
    "builtin_function_or_method",
    "instance",
    "_Feature"
   ],
   "window_display": false
  }
 },
 "nbformat": 4,
 "nbformat_minor": 4
}
