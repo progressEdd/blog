{
 "cells": [
  {
   "cell_type": "markdown",
   "metadata": {
    "toc": true
   },
   "source": [
    "<h1>Table of Contents<span class=\"tocSkip\"></span></h1>\n",
    "<div class=\"toc\"><ul class=\"toc-item\"><li><span><a href=\"#Investigating-RPiPlay-—-Apple-Airplay-on-Fedora-Linux\" data-toc-modified-id=\"Investigating-RPiPlay-—-Apple-Airplay-on-Fedora-Linux-1\"><span class=\"toc-item-num\">1&nbsp;&nbsp;</span>Investigating RPiPlay — Apple Airplay on Fedora Linux</a></span></li><li><span><a href=\"#Steps-To-Installing-RPiPlay\" data-toc-modified-id=\"Steps-To-Installing-RPiPlay-2\"><span class=\"toc-item-num\">2&nbsp;&nbsp;</span>Steps To Installing RPiPlay</a></span><ul class=\"toc-item\"><li><span><a href=\"#Install-all-dependencies-cmake,-libraries,-and-gstreamer\" data-toc-modified-id=\"Install-all-dependencies-cmake,-libraries,-and-gstreamer-2.1\"><span class=\"toc-item-num\">2.1&nbsp;&nbsp;</span>Install all dependencies cmake, libraries, and gstreamer</a></span></li><li><span><a href=\"#Download-the-zip-file-from-github-or-use-git-clone-to-the-directory\" data-toc-modified-id=\"Download-the-zip-file-from-github-or-use-git-clone-to-the-directory-2.2\"><span class=\"toc-item-num\">2.2&nbsp;&nbsp;</span>Download the zip file from github or use git clone to the directory</a></span></li><li><span><a href=\"#Navigate-to-the-directory-you-want-to-the-app-in\" data-toc-modified-id=\"Navigate-to-the-directory-you-want-to-the-app-in-2.3\"><span class=\"toc-item-num\">2.3&nbsp;&nbsp;</span>Navigate to the directory you want to the app in</a></span></li><li><span><a href=\"#Within-directory-run-following-commands\" data-toc-modified-id=\"Within-directory-run-following-commands-2.4\"><span class=\"toc-item-num\">2.4&nbsp;&nbsp;</span>Within directory run following commands</a></span><ul class=\"toc-item\"><li><span><a href=\"#Make-a-folder-called-build\" data-toc-modified-id=\"Make-a-folder-called-build-2.4.1\"><span class=\"toc-item-num\">2.4.1&nbsp;&nbsp;</span>Make a folder called <code>build</code></a></span></li><li><span><a href=\"#Navigate-to-build-folder\" data-toc-modified-id=\"Navigate-to-build-folder-2.4.2\"><span class=\"toc-item-num\">2.4.2&nbsp;&nbsp;</span>Navigate to build folder</a></span></li><li><span><a href=\"#Have-cmake-prepare-the-application\" data-toc-modified-id=\"Have-cmake-prepare-the-application-2.4.3\"><span class=\"toc-item-num\">2.4.3&nbsp;&nbsp;</span>Have cmake prepare the application</a></span></li><li><span><a href=\"#Make-the-application\" data-toc-modified-id=\"Make-the-application-2.4.4\"><span class=\"toc-item-num\">2.4.4&nbsp;&nbsp;</span><code>Make</code> the application</a></span></li></ul></li><li><span><a href=\"#Bonus,-make-it-possible-to-run-RPiPlay-anywhere\" data-toc-modified-id=\"Bonus,-make-it-possible-to-run-RPiPlay-anywhere-2.5\"><span class=\"toc-item-num\">2.5&nbsp;&nbsp;</span>Bonus, make it possible to run RPiPlay anywhere</a></span></li><li><span><a href=\"#Additional-Notes\" data-toc-modified-id=\"Additional-Notes-2.6\"><span class=\"toc-item-num\">2.6&nbsp;&nbsp;</span>Additional Notes</a></span></li></ul></li><li><span><a href=\"#Demonstration\" data-toc-modified-id=\"Demonstration-3\"><span class=\"toc-item-num\">3&nbsp;&nbsp;</span>Demonstration</a></span></li><li><span><a href=\"#Why-RPiPlay?-Doesn't-Zoom-Have-iPad-Screen-Sharing?\" data-toc-modified-id=\"Why-RPiPlay?-Doesn't-Zoom-Have-iPad-Screen-Sharing?-4\"><span class=\"toc-item-num\">4&nbsp;&nbsp;</span>Why RPiPlay? Doesn't Zoom Have iPad Screen Sharing?</a></span></li><li><span><a href=\"#How-I-Found-RPiPlay\" data-toc-modified-id=\"How-I-Found-RPiPlay-5\"><span class=\"toc-item-num\">5&nbsp;&nbsp;</span>How I Found RPiPlay</a></span><ul class=\"toc-item\"><li><span><a href=\"#Initial-Searches\" data-toc-modified-id=\"Initial-Searches-5.1\"><span class=\"toc-item-num\">5.1&nbsp;&nbsp;</span>Initial Searches</a></span></li><li><span><a href=\"#Reddit-Solutions\" data-toc-modified-id=\"Reddit-Solutions-5.2\"><span class=\"toc-item-num\">5.2&nbsp;&nbsp;</span>Reddit Solutions</a></span></li><li><span><a href=\"#Open-Airplay,-Slave-in-the-Magic-Mirror\" data-toc-modified-id=\"Open-Airplay,-Slave-in-the-Magic-Mirror-5.3\"><span class=\"toc-item-num\">5.3&nbsp;&nbsp;</span>Open-Airplay, Slave in the Magic Mirror</a></span></li><li><span><a href=\"#Ambystome-Gstreamer-Plugin\" data-toc-modified-id=\"Ambystome-Gstreamer-Plugin-5.4\"><span class=\"toc-item-num\">5.4&nbsp;&nbsp;</span>Ambystome Gstreamer Plugin</a></span></li><li><span><a href=\"#UxPlay\" data-toc-modified-id=\"UxPlay-5.5\"><span class=\"toc-item-num\">5.5&nbsp;&nbsp;</span>UxPlay</a></span></li><li><span><a href=\"#RPiPlay\" data-toc-modified-id=\"RPiPlay-5.6\"><span class=\"toc-item-num\">5.6&nbsp;&nbsp;</span>RPiPlay</a></span></li></ul></li></ul></div>"
   ]
  },
  {
   "cell_type": "markdown",
   "metadata": {},
   "source": [
    "# Investigating RPiPlay — Apple Airplay on Fedora Linux\n",
    "> As a graduate student during COVID-19 some of my classes were online. I found it difficult to share my iPad screen over web conferences. At that time, I did not want to install Zoom because of the numerous [security vulnerabilities](https://thehackernews.com/2020/08/zoom-software-vulnerabilities.html). Furthermore, the feature of casting my iPad screen was exclusive to Zoom. If I wanted to share my screen in other applications such as Microsoft Teams or Google Meet — I needed an alternative. Over the course of a couple months, I researched and tested multiple methods to cast my iPad screen. This blog post is the fruits of my labor."
   ]
  },
  {
   "cell_type": "markdown",
   "metadata": {},
   "source": [
    "# Steps To Installing RPiPlay\n",
    "The following Fedora instructions are adapted from the [github page](https://github.com/FD-/RPiPlay#building-on-desktop-linux). For instructions on Ubuntu, please check their page\n",
    "## Install all dependencies cmake, libraries, and gstreamer\n",
    "```\n",
    "    sudo dnf install cmake avahi-compat-libdns_sd-devel libplist-devel openssl-devel \\    \n",
    "    gstreamer1-plugins-base-devel gstreamer1-libav gstreamer1-vaapi \\    gstreamer1-plugins-bad-free \n",
    "   ``` \n",
    "## Download the zip file from github or use git clone to the directory\n",
    "        git clone https://github.com/FD-/RPiPlay.git\n",
    "## Navigate to the directory you want to the app in\n",
    "## Within directory run following commands\n",
    "### Make a folder called `build`\n",
    "        mkdir build\n",
    "### Navigate to build folder\n",
    "        cd build\n",
    "### Have cmake prepare the application\n",
    "        cmake ..\n",
    "### `Make` the application\n",
    "        make\n",
    "## Bonus, make it possible to run RPiPlay anywhere\n",
    "        sudo make install\n",
    "## Additional Notes\n",
    "If you close the window make sure you end it in the task manager/system monitor/terminal, otherwise if you try sharing your screen the window won’t reopen. This is best demonstrated in the demonstration section "
   ]
  },
  {
   "cell_type": "markdown",
   "metadata": {},
   "source": [
    "# Demonstration\n",
    "> youtube:https://youtu.be/HHCIv0GU25I"
   ]
  },
  {
   "cell_type": "markdown",
   "metadata": {},
   "source": [
    "# Why RPiPlay? Doesn't Zoom Have iPad Screen Sharing?\n",
    "Zoom does indeed have screen casting, however, this requires installing the Zoom application. My preference is to run everything in a browser due to the nature browsers sandboxing everything, and I would not need to add an additional repository for updates.\n",
    "\n",
    "Furthermore, screen casting is an exclusive Zoom feature, RPiPlay opens the screencast as a window. Since Microsoft Teams, Google Meet, or Open Broadcaster Studio allows for window capture, I have more choices to share my iPad screen"
   ]
  },
  {
   "cell_type": "markdown",
   "metadata": {},
   "source": [
    "# How I Found RPiPlay\n",
    "\n",
    "## Initial Searches\n",
    "I started by searching for [\"airplay from ipad to linux\"](https://duckduckgo.com/?q=airplay+from+ipad+to+linux&t=ffab&ia=web). One of the first results was from [Jonathansblog](https://jonathansblog.co.uk/airplay-from-iphone-or-ipad-to-linux), who suggested using [gnome videos (totem)](https://wiki.gnome.org/Apps/Videos/) with a [totem plugin by phuang](https://github.com/phuang/totem-plugin-airplay). I was able to install totem, but I ran into issues preparing the dependencies other than totem.\n",
    "\n",
    "## Reddit Solutions\n",
    "After no luck with the totem plugin, I tried a different search [\"mirror ipad to linux\"](https://duckduckgo.com/?q=mirror+ipad+to+linux&t=ffab&ia=web). The first result was a reddit post on the [iPad subreddit](https://reddit.com/r/ipad/comments/g7suqg/mirroring_ipad_screen_on_linux/). \n",
    "\n",
    "## Open-Airplay, Slave in the Magic Mirror\n",
    "The [top rated response](https://reddit.com/r/ipad/comments/g7suqg/mirroring_ipad_screen_on_linux/fomv5as/) suggested looking into solutions from the [open-airplay library github page](https://github.com/openairplay/open-airplay). Having no luck with the totem plugin, I decided to look into the [Slave in the Magic Mirror](https://github.com/espes/Slave-in-the-Magic-Mirror). I ran into issues preparing the dependencies in particular with the pip packages. After trying solutions to fixing the dependency issues from multiple web searches, I decided cut my losses try another reddit solution.\n",
    "\n",
    "## Ambystome Gstreamer Plugin\n",
    "The [second top rated response](https://reddit.com/r/ipad/comments/g7suqg/mirroring_ipad_screen_on_linux/foq3lhd/) was from ambystome, there were multiple responses from people who got it working. A [response to the solution](https://reddit.com/r/ipad/comments/g7suqg/mirroring_ipad_screen_on_linux/fpipqw2/) had instructions for Ubuntu, there was a [follow up response for instructions with Fedora](https://reddit.com/r/ipad/comments/g7suqg/mirroring_ipad_screen_on_linux/fpng0u2/). I had issues with getting the `libgstairplay.so` working, and with little documentation for Fedora, I kept looking through the suggested solutions\n",
    "\n",
    "## UxPlay\n",
    "The [fourth top rated response](https://reddit.com/r/ipad/comments/g7suqg/mirroring_ipad_screen_on_linux/frsn99a/) suggested using [UxPlay](https://github.com/antimof/UxPlay). The readme was made for Ubuntu, but browsing the pull requests had [a guide for building on Fedora](https://github.com/antimof/UxPlay/pull/19/commits/58f33ed6dee7ef941dcfe61d23f71074035f7c8a). After following the Fedora instructions, I had finally found my solution. Initially I had written a draft using UxPlay, intending to publish it within a couple days, but I wanted a fix to the two issues I encountered. The first issue is the same bug with RPiPlay, where a closed screen share window would not reopen upon re-pairing. The second issue is that to close UxPlay, you would need to find it in the system monitor and kill it from there. The third issue is that to launch UxPlay, you would need to go to the build directory and open the executable. After looking around for ways to make a shortcut, I couldn't find a good shortcut solution. Looking at the comments to the UxPlay response and the readme on Github, I realized I could try [RPiPlay](https://github.com/FD-/RPiPlay).\n",
    "\n",
    "## RPiPlay\n",
    "I decided to try [RPiPlay](https://github.com/FD-/RPiPlay) to see if the upstream version had a better shortcut solution. There was an additional command that made it globally installed, allowing me to run and close the application in a terminal partially solving the first issue. Running the application in the terminal solves the second issue.\n",
    "```\n",
    "sudo make install\n",
    "```"
   ]
  }
 ],
 "metadata": {
  "kernelspec": {
   "display_name": "Python 3",
   "language": "python",
   "name": "python3"
  },
  "language_info": {
   "codemirror_mode": {
    "name": "ipython",
    "version": 3
   },
   "file_extension": ".py",
   "mimetype": "text/x-python",
   "name": "python",
   "nbconvert_exporter": "python",
   "pygments_lexer": "ipython3",
   "version": "3.7.6"
  },
  "toc": {
   "base_numbering": 1,
   "nav_menu": {},
   "number_sections": true,
   "sideBar": true,
   "skip_h1_title": false,
   "title_cell": "Table of Contents",
   "title_sidebar": "Contents",
   "toc_cell": true,
   "toc_position": {},
   "toc_section_display": true,
   "toc_window_display": false
  },
  "varInspector": {
   "cols": {
    "lenName": 16,
    "lenType": 16,
    "lenVar": 40
   },
   "kernels_config": {
    "python": {
     "delete_cmd_postfix": "",
     "delete_cmd_prefix": "del ",
     "library": "var_list.py",
     "varRefreshCmd": "print(var_dic_list())"
    },
    "r": {
     "delete_cmd_postfix": ") ",
     "delete_cmd_prefix": "rm(",
     "library": "var_list.r",
     "varRefreshCmd": "cat(var_dic_list()) "
    }
   },
   "types_to_exclude": [
    "module",
    "function",
    "builtin_function_or_method",
    "instance",
    "_Feature"
   ],
   "window_display": false
  }
 },
 "nbformat": 4,
 "nbformat_minor": 4
}
